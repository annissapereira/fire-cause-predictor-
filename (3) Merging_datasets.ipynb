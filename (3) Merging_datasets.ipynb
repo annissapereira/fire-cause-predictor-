{
 "cells": [
  {
   "cell_type": "markdown",
   "id": "4e5650d4-d9b6-4488-9c0b-12c056ce46ab",
   "metadata": {},
   "source": [
    "## 🔗 Merging the NOAA (National Oceanic and Atmospheric Administration) Dataset with FRAP (Fire and Resource Assessment Program) Dataset\n",
    "\n",
    "### 📝 Overview of the Merge Process\n",
    "The goal is to merge the **NOAA Weather Dataset** with the **California Wildfire Data** (FRAP dataset). This allows us to combine weather variables with wildfire-specific information, enhancing our ability to analyze the relationship between weather conditions and wildfire occurrences.\n",
    "\n",
    "### 🔑 Columns Being Merged\n",
    "\n",
    "#### **NOAA Weather Dataset Columns**:\n",
    "- **STATION**: Unique identifier for the weather station.\n",
    "- **LATITUDE**: Latitude of the weather station.\n",
    "- **LONGITUDE**: Longitude of the weather station.\n",
    "- **DATE**: Observation date.\n",
    "\n",
    "These columns provide **geospatial and temporal** data that help us match weather conditions to specific fire events.\n",
    "\n",
    "#### **California Wildfire Data (FRAP) Columns**:\n",
    "- **LATITUDE**: Latitude of the wildfire location.\n",
    "- **LONGITUDE**: Longitude of the wildfire location.\n",
    "- **DISCOVERY_DATE**: Date the fire was discovered.\n",
    "- **FIRE_SIZE**: The size of the wildfire (in acres).\n",
    "- **FIRE_SIZE_CLASS**: A classification of the wildfire's size.\n",
    "- **NWCG_CAUSE_CLASSIFICATION**: Classification of the cause of the fire.\n",
    "- **COUNTY**: The county where the fire occurred.\n",
    "\n",
    "These columns provide **wildfire location and size** data, essential for analyzing how weather patterns correlate with wildfire behavior.\n",
    "\n"
   ]
  },
  {
   "cell_type": "code",
   "execution_count": 1,
   "id": "6e8b5e4e-b49c-4342-a70c-44eb714e7c36",
   "metadata": {},
   "outputs": [],
   "source": [
    "import pandas as pd\n",
    "import numpy as np\n",
    "from math import radians, cos, sin, asin, sqrt\n",
    "from sklearn.neighbors import BallTree"
   ]
  },
  {
   "cell_type": "code",
   "execution_count": 2,
   "id": "b6e6282a-4523-4c58-9d0d-f215c6072f84",
   "metadata": {},
   "outputs": [],
   "source": [
    "import pandas as pd\n",
    "\n",
    "# Load the FRAP (Wildfire Data) and NOAA (Weather Data) datasets\n",
    "frap_df = pd.read_csv(\"C:\\\\Users\\\\annis\\\\Project dsc 550\\\\Fire_Occurrence_Database.csv\")\n",
    "noaa_df = pd.read_csv(\"C:\\\\Users\\\\annis\\\\Project dsc 550\\\\Weather_Database.csv\")\n"
   ]
  },
  {
   "cell_type": "code",
   "execution_count": 3,
   "id": "621dddd7-08ba-4af3-b955-97715ac17a5a",
   "metadata": {},
   "outputs": [
    {
     "name": "stdout",
     "output_type": "stream",
     "text": [
      "FRAP Dataset - Unique LATITUDE, LONGITUDE, and DISCOVERY_DATE:\n",
      "LATITUDE          114376\n",
      "LONGITUDE         113854\n",
      "DISCOVERY_DATE     10178\n",
      "dtype: int64\n",
      "\n",
      "NOAA Dataset - Unique LATITUDE, LONGITUDE, and DATE:\n",
      "LATITUDE         7\n",
      "LONGITUDE        7\n",
      "DATE         10593\n",
      "dtype: int64\n"
     ]
    }
   ],
   "source": [
    "# Check unique values for LATITUDE, LONGITUDE, and DATE in both datasets\n",
    "print(\"FRAP Dataset - Unique LATITUDE, LONGITUDE, and DISCOVERY_DATE:\")\n",
    "print(frap_df[['LATITUDE', 'LONGITUDE', 'DISCOVERY_DATE']].nunique())\n",
    "\n",
    "print(\"\\nNOAA Dataset - Unique LATITUDE, LONGITUDE, and DATE:\")\n",
    "print(noaa_df[['LATITUDE', 'LONGITUDE', 'DATE']].nunique())"
   ]
  },
  {
   "cell_type": "markdown",
   "id": "937885cf-9951-4747-ba67-6ad06d5a37be",
   "metadata": {},
   "source": [
    "### Merging both FRAP (Fire Records) and NOAA (Weather Stations) Datasets "
   ]
  },
  {
   "cell_type": "code",
   "execution_count": 4,
   "id": "868a7696-093b-4943-b708-8e960ea7d645",
   "metadata": {},
   "outputs": [
    {
     "name": "stdout",
     "output_type": "stream",
     "text": [
      "FRAP Dataset LATITUDE Range: 32.5374061 to 42.00823\n",
      "FRAP Dataset LONGITUDE Range: -124.402883 to -114.13751147\n",
      "\n",
      "NOAA Dataset LATITUDE Range: 18.6 to 37.28597\n",
      "NOAA Dataset LONGITUDE Range: -120.51788 to -97.2667\n"
     ]
    }
   ],
   "source": [
    "# Check the range of LATITUDE and LONGITUDE in both datasets\n",
    "print(\"FRAP Dataset LATITUDE Range:\", frap_df['LATITUDE'].min(), \"to\", frap_df['LATITUDE'].max())\n",
    "print(\"FRAP Dataset LONGITUDE Range:\", frap_df['LONGITUDE'].min(), \"to\", frap_df['LONGITUDE'].max())\n",
    "\n",
    "print(\"\\nNOAA Dataset LATITUDE Range:\", noaa_df['LATITUDE'].min(), \"to\", noaa_df['LATITUDE'].max())\n",
    "print(\"NOAA Dataset LONGITUDE Range:\", noaa_df['LONGITUDE'].min(), \"to\", noaa_df['LONGITUDE'].max())"
   ]
  },
  {
   "cell_type": "code",
   "execution_count": 5,
   "id": "c6d927d1-8072-4aaf-940a-cb7dca7c2d8e",
   "metadata": {},
   "outputs": [
    {
     "name": "stdout",
     "output_type": "stream",
     "text": [
      "                                       NAME   LATITUDE   LONGITUDE\n",
      "0      FRESNO YOSEMITE INTERNATIONAL, CA US  36.779990 -119.720160\n",
      "1  LOS ANGELES INTERNATIONAL AIRPORT, CA US  33.938160 -118.386600\n",
      "2                SAN BERNARDINO LAGUNAS, MX  18.600000  -97.266700\n",
      "3        RIVERSIDE MUNICIPAL AIRPORT, CA US  33.952820 -117.435230\n",
      "4              SAN BERNARDINO 5.1 NW, CA US  34.195019 -117.350246\n",
      "5           MERCED MUNICIPAL AIRPORT, CA US  37.285970 -120.517880\n",
      "6    SAN DIEGO INTERNATIONAL AIRPORT, CA US  32.733600 -117.183100\n"
     ]
    }
   ],
   "source": [
    "# Extract unique stations with their LATITUDE and LONGITUDE\n",
    "unique_stations = noaa_df[['NAME', 'LATITUDE', 'LONGITUDE']].drop_duplicates().reset_index(drop=True)\n",
    "print(unique_stations)"
   ]
  },
  {
   "cell_type": "code",
   "execution_count": 6,
   "id": "4c5c8ca3-d189-4a35-a430-85cce1556f72",
   "metadata": {},
   "outputs": [],
   "source": [
    "# FRAP\n",
    "frap_df['DISCOVERY_DATE'] = pd.to_datetime(frap_df['DISCOVERY_DATE'])\n",
    "# NOAA\n",
    "noaa_df['DATE'] = pd.to_datetime(noaa_df['DATE'])"
   ]
  },
  {
   "cell_type": "code",
   "execution_count": 7,
   "id": "7ffcfcb3-d9a7-4d0f-a961-258a0372b63d",
   "metadata": {},
   "outputs": [],
   "source": [
    "# Haversine distance\n",
    "noaa_coords = np.radians(noaa_df[['LATITUDE', 'LONGITUDE']])\n",
    "frap_coords = np.radians(frap_df[['LATITUDE', 'LONGITUDE']])"
   ]
  },
  {
   "cell_type": "code",
   "execution_count": 8,
   "id": "16f52db4-9c29-4e9a-9453-a20c31a7c015",
   "metadata": {},
   "outputs": [],
   "source": [
    "tree = BallTree(noaa_coords, metric='haversine')"
   ]
  },
  {
   "cell_type": "code",
   "execution_count": 9,
   "id": "7e541e46-2c19-45fd-befa-f6f9cc195da0",
   "metadata": {},
   "outputs": [],
   "source": [
    "dist, idx = tree.query(frap_coords, k=1)  # find nearest NOAA station"
   ]
  },
  {
   "cell_type": "code",
   "execution_count": 12,
   "id": "61920c0d-ac44-4c98-ab46-8505120947b2",
   "metadata": {},
   "outputs": [],
   "source": [
    "frap_df['nearest_station_id'] = noaa_df.iloc[idx.flatten()]['STATION'].values"
   ]
  },
  {
   "cell_type": "code",
   "execution_count": 13,
   "id": "4b805a5d-80d7-422a-b32d-8dbaf883d291",
   "metadata": {},
   "outputs": [],
   "source": [
    "frap_df['DISCOVERY_DATE'] = frap_df['DISCOVERY_DATE'].dt.date\n",
    "noaa_df['DATE'] = noaa_df['DATE'].dt.date\n",
    "\n",
    "# Merge datasets\n",
    "merged_df = pd.merge(\n",
    "    frap_df,\n",
    "    noaa_df,\n",
    "    left_on=['nearest_station_id', 'DISCOVERY_DATE'],\n",
    "    right_on=['STATION', 'DATE'],\n",
    "    how='left'\n",
    ")\n"
   ]
  },
  {
   "cell_type": "code",
   "execution_count": 40,
   "id": "ed3730a0-c361-4ccd-870e-63e469187e42",
   "metadata": {},
   "outputs": [
    {
     "data": {
      "text/html": [
       "<div>\n",
       "<style scoped>\n",
       "    .dataframe tbody tr th:only-of-type {\n",
       "        vertical-align: middle;\n",
       "    }\n",
       "\n",
       "    .dataframe tbody tr th {\n",
       "        vertical-align: top;\n",
       "    }\n",
       "\n",
       "    .dataframe thead th {\n",
       "        text-align: right;\n",
       "    }\n",
       "</style>\n",
       "<table border=\"1\" class=\"dataframe\">\n",
       "  <thead>\n",
       "    <tr style=\"text-align: right;\">\n",
       "      <th></th>\n",
       "      <th>DISCOVERY_DATE</th>\n",
       "      <th>DISCOVERY_TIME</th>\n",
       "      <th>FIRE_YEAR</th>\n",
       "      <th>LATITUDE_x</th>\n",
       "      <th>LONGITUDE_x</th>\n",
       "      <th>STATE</th>\n",
       "      <th>FIRE_SIZE</th>\n",
       "      <th>FIRE_SIZE_CLASS</th>\n",
       "      <th>NWCG_CAUSE_CLASSIFICATION</th>\n",
       "      <th>NWCG_GENERAL_CAUSE</th>\n",
       "      <th>...</th>\n",
       "      <th>DATE</th>\n",
       "      <th>AWND</th>\n",
       "      <th>PGTM</th>\n",
       "      <th>PRCP</th>\n",
       "      <th>TMAX</th>\n",
       "      <th>TMIN</th>\n",
       "      <th>WDF2</th>\n",
       "      <th>WDF5</th>\n",
       "      <th>WSF2</th>\n",
       "      <th>WSF5</th>\n",
       "    </tr>\n",
       "  </thead>\n",
       "  <tbody>\n",
       "    <tr>\n",
       "      <th>0</th>\n",
       "      <td>2005-02-02</td>\n",
       "      <td>13:00:00</td>\n",
       "      <td>2005</td>\n",
       "      <td>40.036944</td>\n",
       "      <td>-121.005833</td>\n",
       "      <td>CA</td>\n",
       "      <td>0.10</td>\n",
       "      <td>A</td>\n",
       "      <td>Human</td>\n",
       "      <td>Power generation/transmission/distribution</td>\n",
       "      <td>...</td>\n",
       "      <td>2005-02-02</td>\n",
       "      <td>3.13</td>\n",
       "      <td>123.0</td>\n",
       "      <td>0.0</td>\n",
       "      <td>60.0</td>\n",
       "      <td>35.0</td>\n",
       "      <td>110.0</td>\n",
       "      <td>110.0</td>\n",
       "      <td>8.9</td>\n",
       "      <td>13.0</td>\n",
       "    </tr>\n",
       "    <tr>\n",
       "      <th>1</th>\n",
       "      <td>2004-05-12</td>\n",
       "      <td>08:45:00</td>\n",
       "      <td>2004</td>\n",
       "      <td>38.933056</td>\n",
       "      <td>-120.404444</td>\n",
       "      <td>CA</td>\n",
       "      <td>0.25</td>\n",
       "      <td>A</td>\n",
       "      <td>Natural</td>\n",
       "      <td>Natural</td>\n",
       "      <td>...</td>\n",
       "      <td>2004-05-12</td>\n",
       "      <td>8.05</td>\n",
       "      <td>1155.0</td>\n",
       "      <td>0.0</td>\n",
       "      <td>80.0</td>\n",
       "      <td>49.0</td>\n",
       "      <td>320.0</td>\n",
       "      <td>340.0</td>\n",
       "      <td>17.0</td>\n",
       "      <td>21.0</td>\n",
       "    </tr>\n",
       "    <tr>\n",
       "      <th>2</th>\n",
       "      <td>2004-05-31</td>\n",
       "      <td>19:21:00</td>\n",
       "      <td>2004</td>\n",
       "      <td>38.984167</td>\n",
       "      <td>-120.735556</td>\n",
       "      <td>CA</td>\n",
       "      <td>0.10</td>\n",
       "      <td>A</td>\n",
       "      <td>Human</td>\n",
       "      <td>Debris and open burning</td>\n",
       "      <td>...</td>\n",
       "      <td>2004-05-31</td>\n",
       "      <td>6.26</td>\n",
       "      <td>1708.0</td>\n",
       "      <td>0.0</td>\n",
       "      <td>94.0</td>\n",
       "      <td>56.0</td>\n",
       "      <td>320.0</td>\n",
       "      <td>310.0</td>\n",
       "      <td>15.0</td>\n",
       "      <td>17.0</td>\n",
       "    </tr>\n",
       "    <tr>\n",
       "      <th>3</th>\n",
       "      <td>2004-06-28</td>\n",
       "      <td>16:00:00</td>\n",
       "      <td>2004</td>\n",
       "      <td>38.559167</td>\n",
       "      <td>-119.913333</td>\n",
       "      <td>CA</td>\n",
       "      <td>0.10</td>\n",
       "      <td>A</td>\n",
       "      <td>Natural</td>\n",
       "      <td>Natural</td>\n",
       "      <td>...</td>\n",
       "      <td>2004-06-28</td>\n",
       "      <td>6.93</td>\n",
       "      <td>1812.0</td>\n",
       "      <td>0.0</td>\n",
       "      <td>96.0</td>\n",
       "      <td>62.0</td>\n",
       "      <td>270.0</td>\n",
       "      <td>250.0</td>\n",
       "      <td>15.0</td>\n",
       "      <td>19.9</td>\n",
       "    </tr>\n",
       "    <tr>\n",
       "      <th>4</th>\n",
       "      <td>2004-06-28</td>\n",
       "      <td>16:00:00</td>\n",
       "      <td>2004</td>\n",
       "      <td>38.559167</td>\n",
       "      <td>-119.933056</td>\n",
       "      <td>CA</td>\n",
       "      <td>0.10</td>\n",
       "      <td>A</td>\n",
       "      <td>Natural</td>\n",
       "      <td>Natural</td>\n",
       "      <td>...</td>\n",
       "      <td>2004-06-28</td>\n",
       "      <td>6.93</td>\n",
       "      <td>1812.0</td>\n",
       "      <td>0.0</td>\n",
       "      <td>96.0</td>\n",
       "      <td>62.0</td>\n",
       "      <td>270.0</td>\n",
       "      <td>250.0</td>\n",
       "      <td>15.0</td>\n",
       "      <td>19.9</td>\n",
       "    </tr>\n",
       "  </tbody>\n",
       "</table>\n",
       "<p>5 rows × 27 columns</p>\n",
       "</div>"
      ],
      "text/plain": [
       "  DISCOVERY_DATE DISCOVERY_TIME  FIRE_YEAR  LATITUDE_x  LONGITUDE_x STATE  \\\n",
       "0     2005-02-02       13:00:00       2005   40.036944  -121.005833    CA   \n",
       "1     2004-05-12       08:45:00       2004   38.933056  -120.404444    CA   \n",
       "2     2004-05-31       19:21:00       2004   38.984167  -120.735556    CA   \n",
       "3     2004-06-28       16:00:00       2004   38.559167  -119.913333    CA   \n",
       "4     2004-06-28       16:00:00       2004   38.559167  -119.933056    CA   \n",
       "\n",
       "   FIRE_SIZE FIRE_SIZE_CLASS NWCG_CAUSE_CLASSIFICATION  \\\n",
       "0       0.10               A                     Human   \n",
       "1       0.25               A                   Natural   \n",
       "2       0.10               A                     Human   \n",
       "3       0.10               A                   Natural   \n",
       "4       0.10               A                   Natural   \n",
       "\n",
       "                           NWCG_GENERAL_CAUSE  ...        DATE  AWND    PGTM  \\\n",
       "0  Power generation/transmission/distribution  ...  2005-02-02  3.13   123.0   \n",
       "1                                     Natural  ...  2004-05-12  8.05  1155.0   \n",
       "2                     Debris and open burning  ...  2004-05-31  6.26  1708.0   \n",
       "3                                     Natural  ...  2004-06-28  6.93  1812.0   \n",
       "4                                     Natural  ...  2004-06-28  6.93  1812.0   \n",
       "\n",
       "  PRCP  TMAX  TMIN   WDF2   WDF5  WSF2  WSF5  \n",
       "0  0.0  60.0  35.0  110.0  110.0   8.9  13.0  \n",
       "1  0.0  80.0  49.0  320.0  340.0  17.0  21.0  \n",
       "2  0.0  94.0  56.0  320.0  310.0  15.0  17.0  \n",
       "3  0.0  96.0  62.0  270.0  250.0  15.0  19.9  \n",
       "4  0.0  96.0  62.0  270.0  250.0  15.0  19.9  \n",
       "\n",
       "[5 rows x 27 columns]"
      ]
     },
     "execution_count": 40,
     "metadata": {},
     "output_type": "execute_result"
    }
   ],
   "source": [
    "merged_df.head()"
   ]
  },
  {
   "cell_type": "markdown",
   "id": "ead64053-a69d-4b72-90bc-7bd87b81c3e5",
   "metadata": {},
   "source": [
    "### **Data Merging Process**\n",
    "\n",
    "In this analysis, we aim to combine two datasets: **FRAP (Fire Records)** and **NOAA (Weather Stations)**, to correlate wildfire data with weather data from nearby stations. To achieve this, we took the following approach:\n",
    "\n",
    "#### Why This Approach Was Chosen:\n",
    "\n",
    "1. **Geospatial Matching (BallTree Algorithm)**:\n",
    "   - The first step was to find the closest weather station (from NOAA) to each wildfire record (from FRAP) based on the geographic coordinates (latitude and longitude) of both.\n",
    "   - We used the **BallTree** algorithm from `sklearn.neighbors` for efficient nearest-neighbor search, specifically using the **Haversine distance metric**, which is ideal for calculating distances on the Earth's surface (taking into account the spherical nature of the Earth).\n",
    "   - By converting the coordinates into radians, we ensured the BallTree algorithm could accurately compute distances using the Haversine formula.\n",
    "   - **Benefit**: This method allowed us to efficiently match each wildfire record with its nearest weather station, ensuring that the weather data applied to each wildfire was the most relevant in terms of proximity.\n",
    "\n",
    "2. **Date Matching**:\n",
    "   - Once we found the closest weather station, we needed to match the wildfire's discovery date (from FRAP) with the weather data available on that same date (from NOAA). \n",
    "   - We converted both the **FRAP 'DISCOVERY_DATE'** and **NOAA 'DATE'** to a common format (date-only) to ensure they could be matched accurately.\n",
    "   - **Benefit**: Matching by date ensures that we are correlating the fire events with the most recent and relevant weather data available at the time of the fire discovery.\n",
    "\n",
    "3. **Merge Operation**:\n",
    "   - After identifying the nearest station and matching the dates, we performed a **left merge** of the two datasets on the `nearest_station_id` and `DISCOVERY_DATE` for FRAP, and `STATION` and `DATE` for NOAA.\n",
    "   - **Benefit**: The merge ensures that for each fire record, we can attach the corresponding weather information from the nearest station on the same date, enabling a robust analysis of how weather might have influenced the fire.\n",
    "\n",
    "#### Drawbacks and Considerations:\n",
    "\n",
    "1. **Accuracy of Geospatial Matching**:\n",
    "   - **Drawback**: Using the nearest station might not always result in the most accurate weather data, especially if the fire occurred in a geographically diverse area where weather conditions may vary significantly across short distances.\n",
    "   - For example, a fire in a mountainous area may be influenced by different weather patterns than what is recorded at the nearest station in a valley.\n",
    "   - **Solution**: Although we used the nearest station, we acknowledge that this method might introduce some level of inaccuracy, and future improvements could involve using more advanced geospatial models that account for topography and microclimates.\n",
    "\n",
    "2. **Date Alignment**:\n",
    "   - **Drawback**: Sometimes, there could be slight mismatches between the dates of the fire and the weather data due to gaps in weather station reporting or the time lag in data availability.\n",
    "   - **Solution**: We dealt with this by ensuring both date columns were formatted properly (date-only) and handling any discrepancies by using a **left merge** so that all fire records would retain their information, even if the weather data for that date was missing. Missing weather data would be marked as `NaN`, allowing us to investigate gaps further if needed.\n",
    "\n",
    "3. **Data Volume and Complexity**:\n",
    "   - **Drawback**: If the datasets are large, performing this geospatial matching and merging can become computationally expensive and time-consuming, especially with a large number of stations and fire records.\n",
    "   - **Solution**: The use of efficient algorithms like **BallTree** helps mitigate some of the performance concerns, but it's important to monitor performance, especially when dealing with massive datasets.\n",
    "\n",
    "#### Reason:\n",
    "\n",
    "This approach was chosen because it strikes a balance between computational efficiency and ensuring meaningful, real-world matching of wildfire events with weather data. The **BallTree algorithm** provided an effective method for geospatial matching, and date-based merging helped ensure the accuracy of the data being used. While there are potential drawbacks, especially related to geographic mismatches and data availability, this method is scalable and flexible for future improvements.\n"
   ]
  },
  {
   "cell_type": "code",
   "execution_count": 16,
   "id": "c9fba0e5-0706-4cdc-acf4-6827071b54c9",
   "metadata": {},
   "outputs": [
    {
     "data": {
      "text/plain": [
       "DISCOVERY_DATE                   0\n",
       "DISCOVERY_TIME                   0\n",
       "FIRE_YEAR                        0\n",
       "LATITUDE_x                       0\n",
       "LONGITUDE_x                      0\n",
       "STATE                            0\n",
       "FIRE_SIZE                        0\n",
       "FIRE_SIZE_CLASS                  0\n",
       "NWCG_CAUSE_CLASSIFICATION        0\n",
       "NWCG_GENERAL_CAUSE               0\n",
       "COUNTY                           0\n",
       "nearest_station_id               0\n",
       "STATION                      49850\n",
       "NAME                         49850\n",
       "LATITUDE_y                   49850\n",
       "LONGITUDE_y                  49850\n",
       "ELEVATION                    49850\n",
       "DATE                         49850\n",
       "AWND                         49850\n",
       "PGTM                         49850\n",
       "PRCP                         49850\n",
       "TMAX                         49850\n",
       "TMIN                         49850\n",
       "WDF2                         49850\n",
       "WDF5                         49850\n",
       "WSF2                         49850\n",
       "WSF5                         49850\n",
       "dtype: int64"
      ]
     },
     "execution_count": 16,
     "metadata": {},
     "output_type": "execute_result"
    }
   ],
   "source": [
    "merged_df.isnull().sum()"
   ]
  },
  {
   "cell_type": "markdown",
   "id": "896675c6-af15-4f1c-b07f-1a43e25aec4c",
   "metadata": {},
   "source": [
    "### Handling Missing Values in Merged Dataset\n",
    "\n",
    "After merging the **FRAP** (Fire Records) and **NOAA** (Weather Stations) datasets, we encountered a substantial number of missing values in certain columns, particularly in the weather-related fields for some wildfire records. These missing values primarily stemmed from the fact that some fire records did not have a corresponding weather station that fell within the specified radius for matching.\n",
    "\n",
    "#### Columns with Missing Values:\n",
    "- **STATION**\n",
    "- **NAME**\n",
    "- **LATITUDE_y**\n",
    "- **LONGITUDE_y**\n",
    "- **ELEVATION**\n",
    "- **DATE**\n",
    "- **AWND**\n",
    "- **PGTM**\n",
    "- **PRCP**\n",
    "- **TMAX**\n",
    "- **TMIN**\n",
    "- **WDF2**\n",
    "- **WDF5**\n",
    "- **WSF2**\n",
    "- **WSF5**\n",
    "\n",
    "These columns represent essential weather data attributes, such as the station's name, coordinates, elevation, and weather metrics like wind speed and temperature. The missing values in these columns indicate that there were no valid matches for these fire records within the geographical radius of any NOAA station.\n",
    "\n",
    "#### Why These Values are Missing:\n",
    "1. **Geospatial Mismatch**: The nearest NOAA station for certain wildfire records was outside the radius that we used for the nearest-neighbor search. As a result, no weather data was found for these records.\n",
    "2. **Date Mismatch**: In addition to geospatial mismatches, some of the fire records did not have corresponding weather data available on the same date, resulting in missing weather values.\n",
    "\n",
    "#### Decision to Drop These Rows:\n",
    "After reviewing the data and recognizing that these records lacked the essential weather information needed for analysis, we decided to **drop** the rows containing missing values. This decision was made because:\n",
    "- The missing data would have introduced inconsistencies into the analysis, potentially skewing results if we attempted to impute or estimate the missing values.\n",
    "- Without valid weather data, these records would not provide meaningful insights into the relationship between fire events and weather patterns, which is central to our analysis.\n",
    "\n",
    "#### Outcome:\n",
    "By dropping the rows with missing values, we ensured that the merged dataset contains only the records with both fire event and relevant weather data. This allows for more reliable and accurate analysis moving forward, especially when investigating the influence of weather on wildfire occurrences.\n"
   ]
  },
  {
   "cell_type": "code",
   "execution_count": 18,
   "id": "e9268603-aa4a-4f67-9f17-d6499a46361d",
   "metadata": {},
   "outputs": [
    {
     "data": {
      "text/plain": [
       "(251678, 27)"
      ]
     },
     "execution_count": 18,
     "metadata": {},
     "output_type": "execute_result"
    }
   ],
   "source": [
    "merged_df.shape"
   ]
  },
  {
   "cell_type": "code",
   "execution_count": 41,
   "id": "24293192-9f0f-4474-b02a-8ed7e8477176",
   "metadata": {},
   "outputs": [
    {
     "name": "stdout",
     "output_type": "stream",
     "text": [
      "DISCOVERY_DATE               0\n",
      "DISCOVERY_TIME               0\n",
      "FIRE_YEAR                    0\n",
      "LATITUDE_x                   0\n",
      "LONGITUDE_x                  0\n",
      "STATE                        0\n",
      "FIRE_SIZE                    0\n",
      "FIRE_SIZE_CLASS              0\n",
      "NWCG_CAUSE_CLASSIFICATION    0\n",
      "NWCG_GENERAL_CAUSE           0\n",
      "COUNTY                       0\n",
      "nearest_station_id           0\n",
      "STATION                      0\n",
      "NAME                         0\n",
      "LATITUDE_y                   0\n",
      "LONGITUDE_y                  0\n",
      "ELEVATION                    0\n",
      "DATE                         0\n",
      "AWND                         0\n",
      "PGTM                         0\n",
      "PRCP                         0\n",
      "TMAX                         0\n",
      "TMIN                         0\n",
      "WDF2                         0\n",
      "WDF5                         0\n",
      "WSF2                         0\n",
      "WSF5                         0\n",
      "dtype: int64\n"
     ]
    }
   ],
   "source": [
    "# List of columns you want to drop rows with missing values\n",
    "columns_to_check = ['STATION', 'NAME', 'LATITUDE_y', 'LONGITUDE_y', 'ELEVATION', \n",
    "                    'DATE', 'AWND', 'PGTM', 'PRCP', 'TMAX', 'TMIN', 'WDF2', 'WDF5', \n",
    "                    'WSF2', 'WSF5']\n",
    "\n",
    "# Drop rows with missing values in the specified columns\n",
    "merged_df_cleaned = merged_df.dropna(subset=columns_to_check)\n",
    "\n",
    "# Check the result\n",
    "print(merged_df_cleaned.isnull().sum())"
   ]
  },
  {
   "cell_type": "code",
   "execution_count": 45,
   "id": "273529ca-e59e-4341-8f2e-3c68a7a64d3f",
   "metadata": {},
   "outputs": [
    {
     "data": {
      "text/plain": [
       "(201828, 27)"
      ]
     },
     "execution_count": 45,
     "metadata": {},
     "output_type": "execute_result"
    }
   ],
   "source": [
    "merged_df_cleaned.shape"
   ]
  },
  {
   "cell_type": "code",
   "execution_count": 42,
   "id": "5bd67168-c7f8-4da2-bda8-88602198609a",
   "metadata": {},
   "outputs": [
    {
     "data": {
      "text/plain": [
       "COUNTY  STATION      NAME                              \n",
       "65      USW00003171  RIVERSIDE MUNICIPAL AIRPORT, CA US    16952\n",
       "59      USW00003171  RIVERSIDE MUNICIPAL AIRPORT, CA US      990\n",
       "37      USW00003171  RIVERSIDE MUNICIPAL AIRPORT, CA US      901\n",
       "71      USW00003171  RIVERSIDE MUNICIPAL AIRPORT, CA US      542\n",
       "73      USW00003171  RIVERSIDE MUNICIPAL AIRPORT, CA US      356\n",
       "Name: count, dtype: int64"
      ]
     },
     "execution_count": 42,
     "metadata": {},
     "output_type": "execute_result"
    }
   ],
   "source": [
    "# Filter for the specific station name\n",
    "filtered_df = merged_df[merged_df['NAME'] == 'RIVERSIDE MUNICIPAL AIRPORT, CA US']\n",
    "filtered_df[['COUNTY', 'STATION', 'NAME']].value_counts()\n"
   ]
  },
  {
   "cell_type": "code",
   "execution_count": 44,
   "id": "9bfe8358-3d6c-4bfd-ac0d-a9b77bd4554f",
   "metadata": {},
   "outputs": [],
   "source": [
    "# Save the cleaned DataFrame into a CSV file\n",
    "merged_df_cleaned.to_csv('merged_df_cleaned.csv', index=False)"
   ]
  },
  {
   "cell_type": "code",
   "execution_count": 26,
   "id": "55dbcc1c-48a7-4a20-9dfd-1630b503304f",
   "metadata": {},
   "outputs": [
    {
     "data": {
      "text/plain": [
       "COUNTY  STATION      NAME                                  \n",
       "73      USW00023188  SAN DIEGO INTERNATIONAL AIRPORT, CA US    11739\n",
       "25      USW00023188  SAN DIEGO INTERNATIONAL AIRPORT, CA US      803\n",
       "65      USW00023188  SAN DIEGO INTERNATIONAL AIRPORT, CA US      544\n",
       "Name: count, dtype: int64"
      ]
     },
     "execution_count": 26,
     "metadata": {},
     "output_type": "execute_result"
    }
   ],
   "source": [
    "# Filter for the specific station name\n",
    "filtered_df1 = merged_df[merged_df['NAME'] == 'SAN DIEGO INTERNATIONAL AIRPORT, CA US']\n",
    "\n",
    "filtered_df1[['COUNTY', 'STATION', 'NAME']].value_counts()"
   ]
  },
  {
   "cell_type": "code",
   "execution_count": 27,
   "id": "4fca893d-6767-4677-a410-f71d3a0d7a4b",
   "metadata": {},
   "outputs": [
    {
     "data": {
      "text/plain": [
       "COUNTY  STATION      NAME                                \n",
       "19      USW00093193  FRESNO YOSEMITE INTERNATIONAL, CA US    11264\n",
       "107     USW00093193  FRESNO YOSEMITE INTERNATIONAL, CA US     9581\n",
       "39      USW00093193  FRESNO YOSEMITE INTERNATIONAL, CA US     6065\n",
       "79      USW00093193  FRESNO YOSEMITE INTERNATIONAL, CA US     4509\n",
       "29      USW00093193  FRESNO YOSEMITE INTERNATIONAL, CA US     2904\n",
       "51      USW00093193  FRESNO YOSEMITE INTERNATIONAL, CA US     1253\n",
       "27      USW00093193  FRESNO YOSEMITE INTERNATIONAL, CA US     1162\n",
       "53      USW00093193  FRESNO YOSEMITE INTERNATIONAL, CA US      761\n",
       "31      USW00093193  FRESNO YOSEMITE INTERNATIONAL, CA US      419\n",
       "83      USW00093193  FRESNO YOSEMITE INTERNATIONAL, CA US      145\n",
       "43      USW00093193  FRESNO YOSEMITE INTERNATIONAL, CA US      103\n",
       "69      USW00093193  FRESNO YOSEMITE INTERNATIONAL, CA US       28\n",
       "109     USW00093193  FRESNO YOSEMITE INTERNATIONAL, CA US       13\n",
       "Name: count, dtype: int64"
      ]
     },
     "execution_count": 27,
     "metadata": {},
     "output_type": "execute_result"
    }
   ],
   "source": [
    "# Filter for the specific station name\n",
    "filtered_df1 = merged_df[merged_df['NAME'] == 'FRESNO YOSEMITE INTERNATIONAL, CA US']\n",
    "\n",
    "filtered_df1[['COUNTY', 'STATION', 'NAME']].value_counts()"
   ]
  },
  {
   "cell_type": "code",
   "execution_count": 28,
   "id": "9659ac9a-5bbd-40cd-bb11-dec4db94af0a",
   "metadata": {},
   "outputs": [
    {
     "data": {
      "text/plain": [
       "COUNTY  STATION      NAME                                    \n",
       "37      USW00023174  LOS ANGELES INTERNATIONAL AIRPORT, CA US    10328\n",
       "29      USW00023174  LOS ANGELES INTERNATIONAL AIRPORT, CA US     2561\n",
       "111     USW00023174  LOS ANGELES INTERNATIONAL AIRPORT, CA US     1112\n",
       "83      USW00023174  LOS ANGELES INTERNATIONAL AIRPORT, CA US     1008\n",
       "59      USW00023174  LOS ANGELES INTERNATIONAL AIRPORT, CA US      657\n",
       "79      USW00023174  LOS ANGELES INTERNATIONAL AIRPORT, CA US       46\n",
       "Name: count, dtype: int64"
      ]
     },
     "execution_count": 28,
     "metadata": {},
     "output_type": "execute_result"
    }
   ],
   "source": [
    "# Filter for the specific station name\n",
    "filtered_df1 = merged_df[merged_df['NAME'] == 'LOS ANGELES INTERNATIONAL AIRPORT, CA US']\n",
    "\n",
    "filtered_df1[['COUNTY', 'STATION', 'NAME']].value_counts()"
   ]
  },
  {
   "cell_type": "code",
   "execution_count": 29,
   "id": "dc4b9476-d9d6-4392-923f-f1ee9ad9ab04",
   "metadata": {},
   "outputs": [
    {
     "data": {
      "text/plain": [
       "COUNTY  STATION      NAME                           \n",
       "47      USW00023257  MERCED MUNICIPAL AIRPORT, CA US    7614\n",
       "23      USW00023257  MERCED MUNICIPAL AIRPORT, CA US    6836\n",
       "89      USW00023257  MERCED MUNICIPAL AIRPORT, CA US    6002\n",
       "17      USW00023257  MERCED MUNICIPAL AIRPORT, CA US    5964\n",
       "7       USW00023257  MERCED MUNICIPAL AIRPORT, CA US    5706\n",
       "93      USW00023257  MERCED MUNICIPAL AIRPORT, CA US    5501\n",
       "61      USW00023257  MERCED MUNICIPAL AIRPORT, CA US    5105\n",
       "103     USW00023257  MERCED MUNICIPAL AIRPORT, CA US    3846\n",
       "109     USW00023257  MERCED MUNICIPAL AIRPORT, CA US    3652\n",
       "45      USW00023257  MERCED MUNICIPAL AIRPORT, CA US    3501\n",
       "97      USW00023257  MERCED MUNICIPAL AIRPORT, CA US    3319\n",
       "13      USW00023257  MERCED MUNICIPAL AIRPORT, CA US    3122\n",
       "57      USW00023257  MERCED MUNICIPAL AIRPORT, CA US    3058\n",
       "35      USW00023257  MERCED MUNICIPAL AIRPORT, CA US    3030\n",
       "99      USW00023257  MERCED MUNICIPAL AIRPORT, CA US    2693\n",
       "63      USW00023257  MERCED MUNICIPAL AIRPORT, CA US    2684\n",
       "105     USW00023257  MERCED MUNICIPAL AIRPORT, CA US    2633\n",
       "9       USW00023257  MERCED MUNICIPAL AIRPORT, CA US    2603\n",
       "49      USW00023257  MERCED MUNICIPAL AIRPORT, CA US    2459\n",
       "1       USW00023257  MERCED MUNICIPAL AIRPORT, CA US    2401\n",
       "85      USW00023257  MERCED MUNICIPAL AIRPORT, CA US    2353\n",
       "77      USW00023257  MERCED MUNICIPAL AIRPORT, CA US    2146\n",
       "53      USW00023257  MERCED MUNICIPAL AIRPORT, CA US    2099\n",
       "115     USW00023257  MERCED MUNICIPAL AIRPORT, CA US    2011\n",
       "43      USW00023257  MERCED MUNICIPAL AIRPORT, CA US    2008\n",
       "67      USW00023257  MERCED MUNICIPAL AIRPORT, CA US    1930\n",
       "33      USW00023257  MERCED MUNICIPAL AIRPORT, CA US    1897\n",
       "87      USW00023257  MERCED MUNICIPAL AIRPORT, CA US    1792\n",
       "55      USW00023257  MERCED MUNICIPAL AIRPORT, CA US    1575\n",
       "5       USW00023257  MERCED MUNICIPAL AIRPORT, CA US    1428\n",
       "39      USW00023257  MERCED MUNICIPAL AIRPORT, CA US    1288\n",
       "95      USW00023257  MERCED MUNICIPAL AIRPORT, CA US    1177\n",
       "15      USW00023257  MERCED MUNICIPAL AIRPORT, CA US    1152\n",
       "81      USW00023257  MERCED MUNICIPAL AIRPORT, CA US    1053\n",
       "113     USW00023257  MERCED MUNICIPAL AIRPORT, CA US     907\n",
       "3       USW00023257  MERCED MUNICIPAL AIRPORT, CA US     907\n",
       "69      USW00023257  MERCED MUNICIPAL AIRPORT, CA US     839\n",
       "91      USW00023257  MERCED MUNICIPAL AIRPORT, CA US     821\n",
       "101     USW00023257  MERCED MUNICIPAL AIRPORT, CA US     619\n",
       "51      USW00023257  MERCED MUNICIPAL AIRPORT, CA US     504\n",
       "19      USW00023257  MERCED MUNICIPAL AIRPORT, CA US     475\n",
       "41      USW00023257  MERCED MUNICIPAL AIRPORT, CA US     457\n",
       "21      USW00023257  MERCED MUNICIPAL AIRPORT, CA US     403\n",
       "11      USW00023257  MERCED MUNICIPAL AIRPORT, CA US     366\n",
       "75      USW00023257  MERCED MUNICIPAL AIRPORT, CA US     295\n",
       "Name: count, dtype: int64"
      ]
     },
     "execution_count": 29,
     "metadata": {},
     "output_type": "execute_result"
    }
   ],
   "source": [
    "# Filter for the specific station name\n",
    "filtered_df1 = merged_df[merged_df['NAME'] == 'MERCED MUNICIPAL AIRPORT, CA US']\n",
    "\n",
    "filtered_df1[['COUNTY', 'STATION', 'NAME']].value_counts()"
   ]
  },
  {
   "cell_type": "code",
   "execution_count": 30,
   "id": "36a38217-c013-4cda-a81c-817e9190e846",
   "metadata": {},
   "outputs": [
    {
     "data": {
      "text/plain": [
       "Series([], Name: count, dtype: int64)"
      ]
     },
     "execution_count": 30,
     "metadata": {},
     "output_type": "execute_result"
    }
   ],
   "source": [
    "# Filter for the specific station name\n",
    "filtered_df1 = merged_df[merged_df['NAME'] == 'SAN BERNARDINO LAGUNAS, MX']\n",
    "\n",
    "filtered_df1[['COUNTY', 'STATION', 'NAME']].value_counts()"
   ]
  },
  {
   "cell_type": "code",
   "execution_count": 31,
   "id": "7850fa2f-d333-4a34-96cb-a5dbf210cc61",
   "metadata": {},
   "outputs": [
    {
     "data": {
      "text/plain": [
       "COUNTY  STATION      NAME                        \n",
       "71      US1CASR0055  SAN BERNARDINO 5.1 NW, CA US    2262\n",
       "65      US1CASR0055  SAN BERNARDINO 5.1 NW, CA US     344\n",
       "29      US1CASR0055  SAN BERNARDINO 5.1 NW, CA US     116\n",
       "37      US1CASR0055  SAN BERNARDINO 5.1 NW, CA US     116\n",
       "27      US1CASR0055  SAN BERNARDINO 5.1 NW, CA US      13\n",
       "Name: count, dtype: int64"
      ]
     },
     "execution_count": 31,
     "metadata": {},
     "output_type": "execute_result"
    }
   ],
   "source": [
    "\n",
    "# Filter for the specific station name\n",
    "filtered_df1 = merged_df[merged_df['NAME'] == 'SAN BERNARDINO 5.1 NW, CA US']\n",
    "\n",
    "filtered_df1[['COUNTY', 'STATION', 'NAME']].value_counts()"
   ]
  },
  {
   "cell_type": "code",
   "execution_count": 36,
   "id": "1e9c52e6-16b3-49a6-8031-77f79f6cc35f",
   "metadata": {},
   "outputs": [
    {
     "data": {
      "text/plain": [
       "array(['MERCED MUNICIPAL AIRPORT, CA US', nan,\n",
       "       'RIVERSIDE MUNICIPAL AIRPORT, CA US',\n",
       "       'FRESNO YOSEMITE INTERNATIONAL, CA US',\n",
       "       'LOS ANGELES INTERNATIONAL AIRPORT, CA US',\n",
       "       'SAN DIEGO INTERNATIONAL AIRPORT, CA US',\n",
       "       'SAN BERNARDINO 5.1 NW, CA US'], dtype=object)"
      ]
     },
     "execution_count": 36,
     "metadata": {},
     "output_type": "execute_result"
    }
   ],
   "source": [
    "merged_df['NAME'].unique()\n"
   ]
  },
  {
   "cell_type": "markdown",
   "id": "5fa985ef-28f1-4417-a785-fdc19c76f934",
   "metadata": {},
   "source": [
    "### Ensuring Correct Merging of Datasets Based on County Codes\n",
    "\n",
    "After merging the **FRAP** (Fire Records) and **NOAA** (Weather Stations) datasets, it was crucial to verify that the records were correctly matched between the two datasets. A key step in this verification process involved cross-checking the county codes associated with each station.\n",
    "\n",
    "For each of the following stations, we carefully reviewed the county codes to ensure that they matched the entries in our merged dataset:\n",
    "\n",
    "1. **SAN DIEGO INTERNATIONAL AIRPORT, CA US**  \n",
    "   - Verified county codes: 73, 25, 65  \n",
    "   - Matching Entries in Dataset: USW00023188  \n",
    "   - Status: ✅ All county codes match.\n",
    "\n",
    "2. **RIVERSIDE MUNICIPAL AIRPORT, CA US**  \n",
    "   - Verified county codes: 65, 59, 37, 71, 73  \n",
    "   - Matching Entries in Dataset: USW00003171  \n",
    "   - Status: ✅ All county codes match.\n",
    "\n",
    "3. **FRESNO YOSEMITE INTERNATIONAL, CA US**  \n",
    "   - Verified county codes: 19, 107, 39, 79, 29, 51, 27, 53, 31, 83, 43, 69, 109  \n",
    "   - Matching Entries in Dataset: USW00093193  \n",
    "   - Status: ✅ All county codes match.\n",
    "\n",
    "4. **LOS ANGELES INTERNATIONAL AIRPORT, CA US**  \n",
    "   - Verified county codes: 37, 29, 111, 83, 59, 79  \n",
    "   - Matching Entries in Dataset: USW00023174  \n",
    "   - Status: ✅ All county codes match.\n",
    "\n",
    "5. **MERCED MUNICIPAL AIRPORT, CA US**  \n",
    "   - Verified county codes: 47, 23, 89, 17, 7, 93, 61, 103, 109, 45, 97, 13, 57, 35, 99, 63, 105, 9, 49, 1, 85, 77, 53, 115, 43, 67, 33, 87, 55, 5, 39, 95, 15, 81, 113, 3, 69, 91, 101, 51, 19, 41, 21, 11, 75  \n",
    "   - Matching Entries in Dataset: USW00023257  \n",
    "   - Status: ✅ All county codes match.\n",
    "\n",
    "6. **SAN BERNARDINO 5.1 NW, CA US**  \n",
    "   - Verified county codes: 71, 65, 29, 37, 27  \n",
    "   - Matching Entries in Dataset: US1CASR0055  \n",
    "   - Status: ✅ All county codes match.\n",
    "\n",
    "#### Conclusion:\n",
    "By ensuring that all the county codes match between the **FRAP** and **NOAA** datasets for each station, we have confirmed that the merging process was performed correctly. This step guarantees that the fire records are accurately associated with the corresponding weather station data, which is crucial for the integrity of our analysis moving forward.\n"
   ]
  },
  {
   "cell_type": "markdown",
   "id": "56811d3e-6650-4139-bc83-fe4e66ed69f5",
   "metadata": {},
   "source": [
    "### Data Visualization of Merged Data: "
   ]
  },
  {
   "cell_type": "code",
   "execution_count": 2,
   "id": "2c2f9c1e-e699-41a1-b34d-3098a226e2a7",
   "metadata": {},
   "outputs": [
    {
     "data": {
      "text/html": [
       "<div>\n",
       "<style scoped>\n",
       "    .dataframe tbody tr th:only-of-type {\n",
       "        vertical-align: middle;\n",
       "    }\n",
       "\n",
       "    .dataframe tbody tr th {\n",
       "        vertical-align: top;\n",
       "    }\n",
       "\n",
       "    .dataframe thead th {\n",
       "        text-align: right;\n",
       "    }\n",
       "</style>\n",
       "<table border=\"1\" class=\"dataframe\">\n",
       "  <thead>\n",
       "    <tr style=\"text-align: right;\">\n",
       "      <th></th>\n",
       "      <th>DISCOVERY_DATE</th>\n",
       "      <th>DISCOVERY_TIME</th>\n",
       "      <th>FIRE_YEAR</th>\n",
       "      <th>LATITUDE_x</th>\n",
       "      <th>LONGITUDE_x</th>\n",
       "      <th>STATE</th>\n",
       "      <th>FIRE_SIZE</th>\n",
       "      <th>FIRE_SIZE_CLASS</th>\n",
       "      <th>NWCG_CAUSE_CLASSIFICATION</th>\n",
       "      <th>NWCG_GENERAL_CAUSE</th>\n",
       "      <th>...</th>\n",
       "      <th>DATE</th>\n",
       "      <th>AWND</th>\n",
       "      <th>PGTM</th>\n",
       "      <th>PRCP</th>\n",
       "      <th>TMAX</th>\n",
       "      <th>TMIN</th>\n",
       "      <th>WDF2</th>\n",
       "      <th>WDF5</th>\n",
       "      <th>WSF2</th>\n",
       "      <th>WSF5</th>\n",
       "    </tr>\n",
       "  </thead>\n",
       "  <tbody>\n",
       "    <tr>\n",
       "      <th>0</th>\n",
       "      <td>2005-02-02</td>\n",
       "      <td>13:00:00</td>\n",
       "      <td>2005</td>\n",
       "      <td>40.036944</td>\n",
       "      <td>-121.005833</td>\n",
       "      <td>CA</td>\n",
       "      <td>0.10</td>\n",
       "      <td>A</td>\n",
       "      <td>Human</td>\n",
       "      <td>Power generation/transmission/distribution</td>\n",
       "      <td>...</td>\n",
       "      <td>2005-02-02</td>\n",
       "      <td>3.13</td>\n",
       "      <td>123.0</td>\n",
       "      <td>0.0</td>\n",
       "      <td>60.0</td>\n",
       "      <td>35.0</td>\n",
       "      <td>110.0</td>\n",
       "      <td>110.0</td>\n",
       "      <td>8.9</td>\n",
       "      <td>13.0</td>\n",
       "    </tr>\n",
       "    <tr>\n",
       "      <th>1</th>\n",
       "      <td>2004-05-12</td>\n",
       "      <td>08:45:00</td>\n",
       "      <td>2004</td>\n",
       "      <td>38.933056</td>\n",
       "      <td>-120.404444</td>\n",
       "      <td>CA</td>\n",
       "      <td>0.25</td>\n",
       "      <td>A</td>\n",
       "      <td>Natural</td>\n",
       "      <td>Natural</td>\n",
       "      <td>...</td>\n",
       "      <td>2004-05-12</td>\n",
       "      <td>8.05</td>\n",
       "      <td>1155.0</td>\n",
       "      <td>0.0</td>\n",
       "      <td>80.0</td>\n",
       "      <td>49.0</td>\n",
       "      <td>320.0</td>\n",
       "      <td>340.0</td>\n",
       "      <td>17.0</td>\n",
       "      <td>21.0</td>\n",
       "    </tr>\n",
       "    <tr>\n",
       "      <th>2</th>\n",
       "      <td>2004-05-31</td>\n",
       "      <td>19:21:00</td>\n",
       "      <td>2004</td>\n",
       "      <td>38.984167</td>\n",
       "      <td>-120.735556</td>\n",
       "      <td>CA</td>\n",
       "      <td>0.10</td>\n",
       "      <td>A</td>\n",
       "      <td>Human</td>\n",
       "      <td>Debris and open burning</td>\n",
       "      <td>...</td>\n",
       "      <td>2004-05-31</td>\n",
       "      <td>6.26</td>\n",
       "      <td>1708.0</td>\n",
       "      <td>0.0</td>\n",
       "      <td>94.0</td>\n",
       "      <td>56.0</td>\n",
       "      <td>320.0</td>\n",
       "      <td>310.0</td>\n",
       "      <td>15.0</td>\n",
       "      <td>17.0</td>\n",
       "    </tr>\n",
       "    <tr>\n",
       "      <th>3</th>\n",
       "      <td>2004-06-28</td>\n",
       "      <td>16:00:00</td>\n",
       "      <td>2004</td>\n",
       "      <td>38.559167</td>\n",
       "      <td>-119.913333</td>\n",
       "      <td>CA</td>\n",
       "      <td>0.10</td>\n",
       "      <td>A</td>\n",
       "      <td>Natural</td>\n",
       "      <td>Natural</td>\n",
       "      <td>...</td>\n",
       "      <td>2004-06-28</td>\n",
       "      <td>6.93</td>\n",
       "      <td>1812.0</td>\n",
       "      <td>0.0</td>\n",
       "      <td>96.0</td>\n",
       "      <td>62.0</td>\n",
       "      <td>270.0</td>\n",
       "      <td>250.0</td>\n",
       "      <td>15.0</td>\n",
       "      <td>19.9</td>\n",
       "    </tr>\n",
       "    <tr>\n",
       "      <th>4</th>\n",
       "      <td>2004-06-28</td>\n",
       "      <td>16:00:00</td>\n",
       "      <td>2004</td>\n",
       "      <td>38.559167</td>\n",
       "      <td>-119.933056</td>\n",
       "      <td>CA</td>\n",
       "      <td>0.10</td>\n",
       "      <td>A</td>\n",
       "      <td>Natural</td>\n",
       "      <td>Natural</td>\n",
       "      <td>...</td>\n",
       "      <td>2004-06-28</td>\n",
       "      <td>6.93</td>\n",
       "      <td>1812.0</td>\n",
       "      <td>0.0</td>\n",
       "      <td>96.0</td>\n",
       "      <td>62.0</td>\n",
       "      <td>270.0</td>\n",
       "      <td>250.0</td>\n",
       "      <td>15.0</td>\n",
       "      <td>19.9</td>\n",
       "    </tr>\n",
       "  </tbody>\n",
       "</table>\n",
       "<p>5 rows × 27 columns</p>\n",
       "</div>"
      ],
      "text/plain": [
       "  DISCOVERY_DATE DISCOVERY_TIME  FIRE_YEAR  LATITUDE_x  LONGITUDE_x STATE  \\\n",
       "0     2005-02-02       13:00:00       2005   40.036944  -121.005833    CA   \n",
       "1     2004-05-12       08:45:00       2004   38.933056  -120.404444    CA   \n",
       "2     2004-05-31       19:21:00       2004   38.984167  -120.735556    CA   \n",
       "3     2004-06-28       16:00:00       2004   38.559167  -119.913333    CA   \n",
       "4     2004-06-28       16:00:00       2004   38.559167  -119.933056    CA   \n",
       "\n",
       "   FIRE_SIZE FIRE_SIZE_CLASS NWCG_CAUSE_CLASSIFICATION  \\\n",
       "0       0.10               A                     Human   \n",
       "1       0.25               A                   Natural   \n",
       "2       0.10               A                     Human   \n",
       "3       0.10               A                   Natural   \n",
       "4       0.10               A                   Natural   \n",
       "\n",
       "                           NWCG_GENERAL_CAUSE  ...        DATE  AWND    PGTM  \\\n",
       "0  Power generation/transmission/distribution  ...  2005-02-02  3.13   123.0   \n",
       "1                                     Natural  ...  2004-05-12  8.05  1155.0   \n",
       "2                     Debris and open burning  ...  2004-05-31  6.26  1708.0   \n",
       "3                                     Natural  ...  2004-06-28  6.93  1812.0   \n",
       "4                                     Natural  ...  2004-06-28  6.93  1812.0   \n",
       "\n",
       "  PRCP  TMAX  TMIN   WDF2   WDF5  WSF2  WSF5  \n",
       "0  0.0  60.0  35.0  110.0  110.0   8.9  13.0  \n",
       "1  0.0  80.0  49.0  320.0  340.0  17.0  21.0  \n",
       "2  0.0  94.0  56.0  320.0  310.0  15.0  17.0  \n",
       "3  0.0  96.0  62.0  270.0  250.0  15.0  19.9  \n",
       "4  0.0  96.0  62.0  270.0  250.0  15.0  19.9  \n",
       "\n",
       "[5 rows x 27 columns]"
      ]
     },
     "execution_count": 2,
     "metadata": {},
     "output_type": "execute_result"
    }
   ],
   "source": [
    "import pandas as pd\n",
    "file_path = r\"C:\\Users\\annis\\Project dsc 550\\merged_df_cleaned.csv\"\n",
    "df = pd.read_csv(file_path)\n",
    "df.head()"
   ]
  },
  {
   "cell_type": "code",
   "execution_count": 3,
   "id": "6c27eb4a-82d5-494e-ab26-7f7dbc797282",
   "metadata": {},
   "outputs": [
    {
     "data": {
      "text/plain": [
       "Index(['DISCOVERY_DATE', 'DISCOVERY_TIME', 'FIRE_YEAR', 'LATITUDE_x',\n",
       "       'LONGITUDE_x', 'STATE', 'FIRE_SIZE', 'FIRE_SIZE_CLASS',\n",
       "       'NWCG_CAUSE_CLASSIFICATION', 'NWCG_GENERAL_CAUSE', 'COUNTY',\n",
       "       'nearest_station_id', 'STATION', 'NAME', 'LATITUDE_y', 'LONGITUDE_y',\n",
       "       'ELEVATION', 'DATE', 'AWND', 'PGTM', 'PRCP', 'TMAX', 'TMIN', 'WDF2',\n",
       "       'WDF5', 'WSF2', 'WSF5'],\n",
       "      dtype='object')"
      ]
     },
     "execution_count": 3,
     "metadata": {},
     "output_type": "execute_result"
    }
   ],
   "source": [
    "df.columns"
   ]
  }
 ],
 "metadata": {
  "kernelspec": {
   "display_name": "Python 3 (ipykernel)",
   "language": "python",
   "name": "python3"
  },
  "language_info": {
   "codemirror_mode": {
    "name": "ipython",
    "version": 3
   },
   "file_extension": ".py",
   "mimetype": "text/x-python",
   "name": "python",
   "nbconvert_exporter": "python",
   "pygments_lexer": "ipython3",
   "version": "3.12.3"
  }
 },
 "nbformat": 4,
 "nbformat_minor": 5
}
